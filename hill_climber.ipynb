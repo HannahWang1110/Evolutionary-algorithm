{
 "cells": [
  {
   "cell_type": "code",
   "execution_count": 35,
   "metadata": {},
   "outputs": [],
   "source": [
    "import random"
   ]
  },
  {
   "cell_type": "code",
   "execution_count": 37,
   "metadata": {},
   "outputs": [],
   "source": [
    "\n",
    "def generate_string(n=28):\n",
    "    \"\"\"generate a string of n chars randomly, drawing from a-z and the space\"\"\"\n",
    "\n",
    "    chars = [chr(i) for i in range(97, 123)]\n",
    "    chars.append(' ')\n",
    "\n",
    "    sentence = \"\"\n",
    "    for i in range(n):\n",
    "        num = random.randint(0, 26)\n",
    "        sentence += chars[num]\n",
    "    return sentence\n"
   ]
  },
  {
   "cell_type": "code",
   "execution_count": 30,
   "metadata": {},
   "outputs": [],
   "source": [
    "generate_string(28)"
   ]
  },
  {
   "cell_type": "code",
   "execution_count": 31,
   "metadata": {},
   "outputs": [
    {
     "data": {
      "text/plain": [
       "'jntwnutdymmzjfpzfntkdlle ttx'"
      ]
     },
     "execution_count": 31,
     "metadata": {},
     "output_type": "execute_result"
    }
   ],
   "source": [
    "sentence"
   ]
  },
  {
   "cell_type": "code",
   "execution_count": 38,
   "metadata": {},
   "outputs": [],
   "source": [
    "\n",
    "def score_string(s):\n",
    "    \"\"\"Score a string by how similar it is to our goal string\"\"\"\n",
    "\n",
    "    goal = \"methinks it is like a weasel\"\n",
    "    score = 0\n",
    "    for i in range(len(s)):\n",
    "        if s[i] == goal[i]:\n",
    "            score += 1\n",
    "\n",
    "    percentage = 100 * score/len(goal)\n",
    "\n",
    "    return percentage\n",
    "\n",
    "\n"
   ]
  },
  {
   "cell_type": "code",
   "execution_count": 39,
   "metadata": {},
   "outputs": [],
   "source": [
    "def regenerate(s):\n",
    "    \"\"\"compare a string to a goal string and regenerate random strings to replace\n",
    "    only the parts that don't match the goal string\"\"\"\n",
    "\n",
    "    goal = \"methinks it is like a weasel\"\n",
    "    s = [char for char in s]\n",
    "    new_s = \"\"\n",
    "    for i in range(len(s)):\n",
    "        if s[i] != goal[i]:\n",
    "            s[i] = generate_string(1)\n",
    "        new_s += s[i]\n",
    "    return new_s\n",
    "\n",
    "\n"
   ]
  },
  {
   "cell_type": "code",
   "execution_count": 40,
   "metadata": {},
   "outputs": [],
   "source": [
    "def main():\n",
    "    best_str = \"\"\n",
    "    best_score = 0\n",
    "    iters = 0\n",
    "    for i in range(1000):\n",
    "        iters += 1\n",
    "        if best_str:\n",
    "            print (best_score, best_str)\n",
    "        \n",
    "            s = regenerate(best_str)\n",
    "        else:\n",
    "            s = generate_string()\n",
    "\n",
    "        score = score_string(s)\n",
    "        if score > best_score:\n",
    "            best_score = score\n",
    "            best_str = s\n",
    "\n",
    "        if score == 100:\n",
    "            break\n",
    "\n",
    "    print (\"closest:\", best_str, \"score:\", str(best_score) + \"%\", \"iterations:\", iters)\n",
    "\n",
    "    print (\"IT WORKED!!!\")"
   ]
  },
  {
   "cell_type": "code",
   "execution_count": 41,
   "metadata": {},
   "outputs": [],
   "source": [
    "# Self Check from http://interactivepython.org/runestone/static/pythonds/Introduction/DefiningFunctions.html\n",
    "#Problem Solving with data structures and algorithms\n",
    "# Here’s a self check that really covers everything so far. You may have heard of\n",
    "# the infinite monkey theorem? The theorem states that a monkey hitting keys at\n",
    "#  random on a typewriter keyboard for an infinite amount of time will almost surely\n",
    "#   type a given text, such as the complete works of William Shakespeare. Well,\n",
    "#   suppose we replace a monkey with a Python function. How long do you think it\n",
    "#   would take for a Python function to generate just one sentence of Shakespeare?\n",
    "#    The sentence we’ll shoot for is: “methinks it is like a weasel”\n",
    "\n",
    "# You’re not going to want to run this one in the browser, so fire up your favorite\n",
    "# Python IDE. The way we’ll simulate this is to write a function that generates a\n",
    "# string that is 27 characters long by choosing random letters from the 26 letters\n",
    "# in the alphabet plus the space. We’ll write another function that will score each\n",
    "# generated string by comparing the randomly generated string to the goal.\n",
    "\n",
    "# A third function will repeatedly call generate and score, then if 100% of the\n",
    "# letters are correct we are done. If the letters are not correct then we will\n",
    "# generate a whole new string.To make it easier to follow your program’s progress\n",
    "# this third function should print out the best string generated so far and its\n",
    "# score every 1000 tries.\n",
    "\n",
    "# Self Check Challenge\n",
    "# See if you can improve upon the program in the self check by keeping letters\n",
    "# that are correct and only modifying one character in the best string so far.\n",
    "# This is a type of algorithm in the class of ‘hill climbing’ algorithms, that is\n",
    "# we only keep the result if it is better than the previous one."
   ]
  },
  {
   "cell_type": "code",
   "execution_count": 42,
   "metadata": {},
   "outputs": [
    {
     "name": "stdout",
     "output_type": "stream",
     "text": [
      "3.5714285714285716 xzpxqurvzcmoesqntqxnejrfurwc\n",
      "10.714285714285714 botyypzeprtbrshprtibywhlond \n",
      "17.857142857142858 mlt juyizathzsrelsbuaxzvcdgz\n",
      "17.857142857142858 mlt juyizathzsrelsbuaxzvcdgz\n",
      "21.428571428571427 mstimzmrlsteos hxuqiaxztimok\n",
      "21.428571428571427 mstimzmrlsteos hxuqiaxztimok\n",
      "28.571428571428573 metxanvaqttzus a nfxalvotmhu\n",
      "28.571428571428573 metxanvaqttzus a nfxalvotmhu\n",
      "39.285714285714285 metponmzpet vs mipttacxnwreu\n",
      "39.285714285714285 metponmzpet vs mipttacxnwreu\n",
      "39.285714285714285 metponmzpet vs mipttacxnwreu\n",
      "46.42857142857143 metq nta qt ws pioetay robex\n",
      "46.42857142857143 metq nta qt ws pioetay robex\n",
      "46.42857142857143 metq nta qt ws pioetay robex\n",
      "46.42857142857143 metq nta qt ws pioetay robex\n",
      "50.0 metoqnmd et js ligesaqhgmoeg\n",
      "53.57142857142857 metrdnog ot rs liaeeatgkameq\n",
      "53.57142857142857 metrdnog ot rs liaeeatgkameq\n",
      "53.57142857142857 metrdnog ot rs liaeeatgkameq\n",
      "53.57142857142857 metrdnog ot rs liaeeatgkameq\n",
      "57.142857142857146 metdenco pt bs lijeca muauet\n",
      "57.142857142857146 metdenco pt bs lijeca muauet\n",
      "60.714285714285715 metvhncy st ms ligesa wuakek\n",
      "60.714285714285715 metvhncy st ms ligesa wuakek\n",
      "60.714285714285715 metvhncy st ms ligesa wuakek\n",
      "64.28571428571429 mettinoe wt os ligeva wbaxek\n",
      "67.85714285714286 metzinfl ft ss liteya wmaseh\n",
      "75.0 metmindu at ns liue a weasek\n",
      "75.0 metmindu at ns liue a weasek\n",
      "75.0 metmindu at ns liue a weasek\n",
      "78.57142857142857 metoindb mt es like a weasep\n",
      "78.57142857142857 metoindb mt es like a weasep\n",
      "78.57142857142857 metoindb mt es like a weasep\n",
      "78.57142857142857 metoindb mt es like a weasep\n",
      "78.57142857142857 metoindb mt es like a weasep\n",
      "82.14285714285714 metvinul it ms like a weasee\n",
      "82.14285714285714 metvinul it ms like a weasee\n",
      "82.14285714285714 metvinul it ms like a weasee\n",
      "85.71428571428571 metxintj it zs like a weasel\n",
      "85.71428571428571 metxintj it zs like a weasel\n",
      "92.85714285714286 methinkb it js like a weasel\n",
      "92.85714285714286 methinkb it js like a weasel\n",
      "92.85714285714286 methinkb it js like a weasel\n",
      "92.85714285714286 methinkb it js like a weasel\n",
      "92.85714285714286 methinkb it js like a weasel\n",
      "92.85714285714286 methinkb it js like a weasel\n",
      "92.85714285714286 methinkb it js like a weasel\n",
      "92.85714285714286 methinkb it js like a weasel\n",
      "92.85714285714286 methinkb it js like a weasel\n",
      "92.85714285714286 methinkb it js like a weasel\n",
      "92.85714285714286 methinkb it js like a weasel\n",
      "92.85714285714286 methinkb it js like a weasel\n",
      "92.85714285714286 methinkb it js like a weasel\n",
      "92.85714285714286 methinkb it js like a weasel\n",
      "92.85714285714286 methinkb it js like a weasel\n",
      "92.85714285714286 methinkb it js like a weasel\n",
      "92.85714285714286 methinkb it js like a weasel\n",
      "92.85714285714286 methinkb it js like a weasel\n",
      "92.85714285714286 methinkb it js like a weasel\n",
      "92.85714285714286 methinkb it js like a weasel\n",
      "92.85714285714286 methinkb it js like a weasel\n",
      "92.85714285714286 methinkb it js like a weasel\n",
      "92.85714285714286 methinkb it js like a weasel\n",
      "92.85714285714286 methinkb it js like a weasel\n",
      "92.85714285714286 methinkb it js like a weasel\n",
      "92.85714285714286 methinkb it js like a weasel\n",
      "92.85714285714286 methinkb it js like a weasel\n",
      "92.85714285714286 methinkb it js like a weasel\n",
      "92.85714285714286 methinkb it js like a weasel\n",
      "92.85714285714286 methinkb it js like a weasel\n",
      "96.42857142857143 methinke it is like a weasel\n",
      "96.42857142857143 methinke it is like a weasel\n",
      "96.42857142857143 methinke it is like a weasel\n",
      "96.42857142857143 methinke it is like a weasel\n",
      "96.42857142857143 methinke it is like a weasel\n",
      "96.42857142857143 methinke it is like a weasel\n",
      "96.42857142857143 methinke it is like a weasel\n",
      "96.42857142857143 methinke it is like a weasel\n",
      "96.42857142857143 methinke it is like a weasel\n",
      "96.42857142857143 methinke it is like a weasel\n",
      "96.42857142857143 methinke it is like a weasel\n",
      "96.42857142857143 methinke it is like a weasel\n",
      "96.42857142857143 methinke it is like a weasel\n",
      "96.42857142857143 methinke it is like a weasel\n",
      "96.42857142857143 methinke it is like a weasel\n",
      "96.42857142857143 methinke it is like a weasel\n",
      "96.42857142857143 methinke it is like a weasel\n",
      "96.42857142857143 methinke it is like a weasel\n",
      "96.42857142857143 methinke it is like a weasel\n",
      "96.42857142857143 methinke it is like a weasel\n",
      "96.42857142857143 methinke it is like a weasel\n",
      "96.42857142857143 methinke it is like a weasel\n",
      "96.42857142857143 methinke it is like a weasel\n",
      "96.42857142857143 methinke it is like a weasel\n",
      "96.42857142857143 methinke it is like a weasel\n",
      "96.42857142857143 methinke it is like a weasel\n",
      "96.42857142857143 methinke it is like a weasel\n",
      "closest: methinks it is like a weasel score: 100.0% iterations: 100\n",
      "IT WORKED!!!\n"
     ]
    }
   ],
   "source": [
    "main()"
   ]
  },
  {
   "cell_type": "code",
   "execution_count": null,
   "metadata": {},
   "outputs": [],
   "source": []
  }
 ],
 "metadata": {
  "kernelspec": {
   "display_name": "Python 3",
   "language": "python",
   "name": "python3"
  },
  "language_info": {
   "codemirror_mode": {
    "name": "ipython",
    "version": 3
   },
   "file_extension": ".py",
   "mimetype": "text/x-python",
   "name": "python",
   "nbconvert_exporter": "python",
   "pygments_lexer": "ipython3",
   "version": "3.7.0"
  }
 },
 "nbformat": 4,
 "nbformat_minor": 2
}
