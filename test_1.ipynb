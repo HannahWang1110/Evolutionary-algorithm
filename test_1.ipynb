{
 "cells": [
  {
   "cell_type": "code",
   "execution_count": 22,
   "metadata": {},
   "outputs": [],
   "source": [
    "import random"
   ]
  },
  {
   "cell_type": "code",
   "execution_count": 23,
   "metadata": {},
   "outputs": [],
   "source": [
    "test=\"Methinks it is like a weasel\"\n"
   ]
  },
  {
   "cell_type": "code",
   "execution_count": 24,
   "metadata": {},
   "outputs": [],
   "source": [
    "import string"
   ]
  },
  {
   "cell_type": "code",
   "execution_count": 25,
   "metadata": {},
   "outputs": [],
   "source": [
    "poss_chara=string.printable"
   ]
  },
  {
   "cell_type": "code",
   "execution_count": 5,
   "metadata": {},
   "outputs": [
    {
     "data": {
      "text/plain": [
       "'0123456789abcdefghijklmnopqrstuvwxyzABCDEFGHIJKLMNOPQRSTUVWXYZ!\"#$%&\\'()*+,-./:;<=>?@[\\\\]^_`{|}~ \\t\\n\\r\\x0b\\x0c'"
      ]
     },
     "execution_count": 5,
     "metadata": {},
     "output_type": "execute_result"
    }
   ],
   "source": [
    "poss_chara"
   ]
  },
  {
   "cell_type": "code",
   "execution_count": 26,
   "metadata": {},
   "outputs": [],
   "source": [
    "def generate_sentence(n=28):\n",
    "    result=''\n",
    "    for x in range(0,28):\n",
    "        result+=random.choice(poss_chara)\n",
    "    return result\n"
   ]
  },
  {
   "cell_type": "code",
   "execution_count": 27,
   "metadata": {},
   "outputs": [],
   "source": [
    "def score_string(s):\n",
    "    score=0\n",
    "    s=generate_sentence()\n",
    "    for i in range(len(s)):\n",
    "        if s[i]==test[i]:\n",
    "            score+=1\n",
    "    return(score)"
   ]
  },
  {
   "cell_type": "code",
   "execution_count": 15,
   "metadata": {},
   "outputs": [],
   "source": [
    "s=generate_sentence()"
   ]
  },
  {
   "cell_type": "code",
   "execution_count": 16,
   "metadata": {},
   "outputs": [
    {
     "data": {
      "text/plain": [
       "2"
      ]
     },
     "execution_count": 16,
     "metadata": {},
     "output_type": "execute_result"
    }
   ],
   "source": [
    "score(s)"
   ]
  },
  {
   "cell_type": "code",
   "execution_count": 28,
   "metadata": {},
   "outputs": [],
   "source": [
    "#mutution\n",
    "def regenerate(s):\n",
    "    s=[char for char in s]\n",
    "    new_sentence=''\n",
    "    for i in range(len(s)):\n",
    "        if s[i]!=test[i]:\n",
    "            s[i]=generate_sentence(1)\n",
    "        new_sentence+=s[i]\n",
    "    return new_sentence"
   ]
  },
  {
   "cell_type": "code",
   "execution_count": 29,
   "metadata": {},
   "outputs": [],
   "source": [
    "#hill climber\n",
    "def main():\n",
    "    best_result=''\n",
    "    best_score=0\n",
    "    iters=0\n",
    "    for i in range(1000):\n",
    "        iters+=1\n",
    "        if best_result:\n",
    "            print(best_result,best_score)\n",
    "            s=regenerate(best_result)\n",
    "        else:\n",
    "            s=generate_sentence()\n",
    "        score=score_string(s)\n",
    "        if score>best_score:\n",
    "            best_score=score\n",
    "            best_result=s\n",
    "        if score==28:\n",
    "            break\n",
    "    print(\"best result\",best_result,\"score\",best_score,\"iterations\",iters)"
   ]
  },
  {
   "cell_type": "code",
   "execution_count": 30,
   "metadata": {},
   "outputs": [
    {
     "name": "stdout",
     "output_type": "stream",
     "text": [
      "1< \n",
      "=2$\tDTY<;S%RJPZ=eUSMiG49 1\n",
      "1< \n",
      "=2$\tDTY<;S%RJPZ=eUSMiG49 1\n",
      "1< \n",
      "=2$\tDTY<;S%RJPZ=eUSMiG49 1\n",
      "1< \n",
      "=2$\tDTY<;S%RJPZ=eUSMiG49 1\n",
      "1< \n",
      "=2$\tDTY<;S%RJPZ=eUSMiG49 1\n",
      "(j=75##*H\n",
      "\\c<s6&=-m\\/[OQA'\n",
      "rHGrC 1vh'x\"LHc4Pgs\u000b",
      "2pc}s4'\"'7~0DGZLqDd4\u000b",
      "xu:>9@y8J}K~yMfrE2.8s+ZV6!v|%)\\&*,5UjP0c&*\u000b",
      "/O\n",
      "\r\n",
      "g1l\n",
      "1(&\f",
      "ys+hegXJetS5lr)i1Aw;r.QL\f",
      "-v9.~bf(<l>n=K\n",
      "Z.o{6X{8\r",
      "\r",
      "jDCw}RR7K3` =DJ_G}H,<X\n",
      "j=g]=[T~pfWxQ cg%\f",
      "w`\"\r",
      "\t).Kx1dM:`}33B\r",
      "\t.GDj~gz`X{zQ4RWI7vM\"btknw]7l-oJMc\u000b",
      "{By\n",
      "Z{r*9B`U\\Q6<.btZJf<E4rA)9+V7=EM[|VA)k]!-1H`0WU^p$\r",
      ".qG%3)/\f",
      "LjU2^R2<YYzcp&1<c\t7Fj]PB/%(WDr[O RKxz2`v>Q^-MJ\u000b",
      "\f",
      "\tz~!k\\\tUK[n~+i0Wzul|fOx\"}3HpmI]k%\n",
      "\tx@Q\\LN`n0?m`k=IMnub1R'\u000b",
      "zJH/m-$XmPT:L2<4HJ.7Z]\"<OrDShN`ErOK-{7R+w(G\f",
      "1:B]\tVl6'D\u000b",
      "Z\f",
      "i+|jQ5ZY1lz's2zOhH@VC\f",
      "If\n",
      "Hr:-e[\n",
      "z3  8tA316EM1|gAwtlfZk[\t>'^Cg%C(E^0J\u000b",
      ",#-R\"%QW93|0GRcfD\\/'\r",
      "-u64!b1BR5\"BH:\n",
      "*2`:D~Ls[O/X|IPt|&|1nI\tWo,7M\n",
      "I|lx\tb@$`d|c$ d\"NGcAHj%Q&4`\u000b",
      "f6De WQAxAlvqjcK1/3] :IeP00TI)~}RAZbeeJ\f",
      ";g6?.^_!]}4G1uVV)hxyRnp4wS='%(V&gbn!Ml>c|v2!Om\"EURkaJ%=0n] HQ?2|Xwp)WF!l{\t:_(qNZTgt^=h&~ 2\n"
     ]
    },
    {
     "ename": "IndexError",
     "evalue": "string index out of range",
     "output_type": "error",
     "traceback": [
      "\u001b[0;31m---------------------------------------------------------------------------\u001b[0m",
      "\u001b[0;31mIndexError\u001b[0m                                Traceback (most recent call last)",
      "\u001b[0;32m<ipython-input-30-263240bbee7e>\u001b[0m in \u001b[0;36m<module>\u001b[0;34m()\u001b[0m\n\u001b[0;32m----> 1\u001b[0;31m \u001b[0mmain\u001b[0m\u001b[0;34m(\u001b[0m\u001b[0;34m)\u001b[0m\u001b[0;34m\u001b[0m\u001b[0m\n\u001b[0m",
      "\u001b[0;32m<ipython-input-29-e3c3b2508eee>\u001b[0m in \u001b[0;36mmain\u001b[0;34m()\u001b[0m\n\u001b[1;32m      8\u001b[0m         \u001b[0;32mif\u001b[0m \u001b[0mbest_result\u001b[0m\u001b[0;34m:\u001b[0m\u001b[0;34m\u001b[0m\u001b[0m\n\u001b[1;32m      9\u001b[0m             \u001b[0mprint\u001b[0m\u001b[0;34m(\u001b[0m\u001b[0mbest_result\u001b[0m\u001b[0;34m,\u001b[0m\u001b[0mbest_score\u001b[0m\u001b[0;34m)\u001b[0m\u001b[0;34m\u001b[0m\u001b[0m\n\u001b[0;32m---> 10\u001b[0;31m             \u001b[0ms\u001b[0m\u001b[0;34m=\u001b[0m\u001b[0mregenerate\u001b[0m\u001b[0;34m(\u001b[0m\u001b[0mbest_result\u001b[0m\u001b[0;34m)\u001b[0m\u001b[0;34m\u001b[0m\u001b[0m\n\u001b[0m\u001b[1;32m     11\u001b[0m         \u001b[0;32melse\u001b[0m\u001b[0;34m:\u001b[0m\u001b[0;34m\u001b[0m\u001b[0m\n\u001b[1;32m     12\u001b[0m             \u001b[0ms\u001b[0m\u001b[0;34m=\u001b[0m\u001b[0mgenerate_sentence\u001b[0m\u001b[0;34m(\u001b[0m\u001b[0;34m)\u001b[0m\u001b[0;34m\u001b[0m\u001b[0m\n",
      "\u001b[0;32m<ipython-input-28-4a260783d23b>\u001b[0m in \u001b[0;36mregenerate\u001b[0;34m(s)\u001b[0m\n\u001b[1;32m      4\u001b[0m     \u001b[0mnew_sentence\u001b[0m\u001b[0;34m=\u001b[0m\u001b[0;34m''\u001b[0m\u001b[0;34m\u001b[0m\u001b[0m\n\u001b[1;32m      5\u001b[0m     \u001b[0;32mfor\u001b[0m \u001b[0mi\u001b[0m \u001b[0;32min\u001b[0m \u001b[0mrange\u001b[0m\u001b[0;34m(\u001b[0m\u001b[0mlen\u001b[0m\u001b[0;34m(\u001b[0m\u001b[0ms\u001b[0m\u001b[0;34m)\u001b[0m\u001b[0;34m)\u001b[0m\u001b[0;34m:\u001b[0m\u001b[0;34m\u001b[0m\u001b[0m\n\u001b[0;32m----> 6\u001b[0;31m         \u001b[0;32mif\u001b[0m \u001b[0ms\u001b[0m\u001b[0;34m[\u001b[0m\u001b[0mi\u001b[0m\u001b[0;34m]\u001b[0m\u001b[0;34m!=\u001b[0m\u001b[0mtest\u001b[0m\u001b[0;34m[\u001b[0m\u001b[0mi\u001b[0m\u001b[0;34m]\u001b[0m\u001b[0;34m:\u001b[0m\u001b[0;34m\u001b[0m\u001b[0m\n\u001b[0m\u001b[1;32m      7\u001b[0m             \u001b[0ms\u001b[0m\u001b[0;34m[\u001b[0m\u001b[0mi\u001b[0m\u001b[0;34m]\u001b[0m\u001b[0;34m=\u001b[0m\u001b[0mgenerate_sentence\u001b[0m\u001b[0;34m(\u001b[0m\u001b[0;36m1\u001b[0m\u001b[0;34m)\u001b[0m\u001b[0;34m\u001b[0m\u001b[0m\n\u001b[1;32m      8\u001b[0m         \u001b[0mnew_sentence\u001b[0m\u001b[0;34m+=\u001b[0m\u001b[0ms\u001b[0m\u001b[0;34m[\u001b[0m\u001b[0mi\u001b[0m\u001b[0;34m]\u001b[0m\u001b[0;34m\u001b[0m\u001b[0m\n",
      "\u001b[0;31mIndexError\u001b[0m: string index out of range"
     ]
    }
   ],
   "source": [
    "main()"
   ]
  },
  {
   "cell_type": "code",
   "execution_count": null,
   "metadata": {},
   "outputs": [],
   "source": []
  }
 ],
 "metadata": {
  "kernelspec": {
   "display_name": "Python 3",
   "language": "python",
   "name": "python3"
  },
  "language_info": {
   "codemirror_mode": {
    "name": "ipython",
    "version": 3
   },
   "file_extension": ".py",
   "mimetype": "text/x-python",
   "name": "python",
   "nbconvert_exporter": "python",
   "pygments_lexer": "ipython3",
   "version": "3.7.0"
  }
 },
 "nbformat": 4,
 "nbformat_minor": 2
}
